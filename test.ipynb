{
 "cells": [
  {
   "cell_type": "code",
   "execution_count": 1,
   "metadata": {},
   "outputs": [],
   "source": [
    "from ultralytics import YOLO\n",
    "import cv2\n",
    "\n",
    "model = YOLO(\"yolov8n.pt\")"
   ]
  },
  {
   "cell_type": "code",
   "execution_count": null,
   "metadata": {},
   "outputs": [],
   "source": [
    "results = model(\"https://www.youtube.com/watch?v=ddTV12hErTc\",stream=True, verbose=False)\n",
    "\n",
    "while True:\n",
    "    for result in results:\n",
    "        frame = result.orig_img\n",
    "        boxes = result.boxes.cpu().numpy().xyxy.astype(int)\n",
    "        labels = result.boxes.cpu().numpy().cls\n",
    "        conf = result.boxes.cpu().numpy().conf\n",
    "        for box, label, conf in zip(boxes, labels, conf):\n",
    "                    x1, y1, x2, y2 = box\n",
    "                    cv2.rectangle(frame, (x1, y1), (x2, y2), (0,0,255), 2)\n",
    "                    cv2.putText(\n",
    "                        frame,\n",
    "                        model.names[int(label)] + \": \" + str(round(conf, 2)),\n",
    "                        (x1, y1 - 10),\n",
    "                        cv2.FONT_HERSHEY_SIMPLEX,\n",
    "                        2,\n",
    "                        (0,0,255),\n",
    "                        2,\n",
    "                    )\n",
    "        cv2.imshow(\"YOLO\", frame)\n",
    "        if cv2.waitKey(1) == ord(\"q\"):\n",
    "            break"
   ]
  }
 ],
 "metadata": {
  "kernelspec": {
   "display_name": "Python 3",
   "language": "python",
   "name": "python3"
  },
  "language_info": {
   "codemirror_mode": {
    "name": "ipython",
    "version": 3
   },
   "file_extension": ".py",
   "mimetype": "text/x-python",
   "name": "python",
   "nbconvert_exporter": "python",
   "pygments_lexer": "ipython3",
   "version": "3.8.10"
  }
 },
 "nbformat": 4,
 "nbformat_minor": 2
}
